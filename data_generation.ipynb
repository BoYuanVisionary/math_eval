{
 "cells": [
  {
   "cell_type": "code",
   "execution_count": 16,
   "metadata": {},
   "outputs": [
    {
     "data": {
      "text/plain": [
       "'Consider points $O(0,0)$, $A({x_latex}, 0)$, and $B(0, {y_latex})$ in the coordinate plane. For the family $\\\\mathcal{F}$ of segments $\\\\overline\\\\{PQ\\\\}$ of unit length in the first quadrant with $P$ on the $x$-axis and $Q$ on the $y$-axis, there exists a unique point $C$ on $\\\\overline{AB}$ (distinct from $A$ and $B$) that does not lie on any segment from $\\\\mathcal{F}$ apart from $\\\\overline{AB}$. Let $OC^2 = \\\\tfrac{p}{q}$, where $p$ and $q$ are relatively prime positive integers. Determine $p+q$.'"
      ]
     },
     "execution_count": 16,
     "metadata": {},
     "output_type": "execute_result"
    }
   ],
   "source": [
    "# import os\n",
    "# from data import data_generator\n",
    "# generator = data_generator('AI-MO/aimo-validation-aime')\n",
    "# math_problem = \"Let $O(0,0), A({x_latex}, 0),$ and $B(0, {y_latex})$ be points in the coordinate plane. Let $\\\\mathcal{{F}}$ be the family of segments $\\\\overline\\{{PQ\\}}$ of unit length lying in the first quadrant with $P$ on the $x$-axis and $Q$ on the $y$-axis. There is a unique point $C$ on $\\\\overline{{AB}}$, distinct from $A$ and $B$, that does not belong to any segment from $\\\\mathcal{{F}}$ other than $\\\\overline{{AB}}$. Then $OC^2 = \\\\tfrac{{p}}{{q}}$, where $p$ and $q$ are relatively prime positive integers. Find $p+q$.\"\n",
    "# generator._rephrase_problem(math_problem,seed=1)\n"
   ]
  },
  {
   "cell_type": "code",
   "execution_count": 18,
   "metadata": {},
   "outputs": [
    {
     "data": {
      "application/vnd.jupyter.widget-view+json": {
       "model_id": "919a264ac01840d597946cb092e2858d",
       "version_major": 2,
       "version_minor": 0
      },
      "text/plain": [
       "Map:   0%|          | 0/30 [00:00<?, ? examples/s]"
      ]
     },
     "metadata": {},
     "output_type": "display_data"
    }
   ],
   "source": [
    "from data import data_generator\n",
    "dataset_name = 'AI-MO/aimo-validation-aime'\n",
    "seed = 1\n",
    "dataGenerator = data_generator(dataset_name,seed)\n",
    "perturbed_dataset = dataGenerator.perturbation_add_word()\n"
   ]
  },
  {
   "cell_type": "code",
   "execution_count": 1,
   "metadata": {},
   "outputs": [
    {
     "name": "stdout",
     "output_type": "stream",
     "text": [
      "\\frac{5}{6}, \\frac{\\sqrt{11}}{6}\n"
     ]
    },
    {
     "data": {
      "text/plain": [
       "('Let $O(0,0), A(\\\\frac{5}{6}, 0),$ and $B(0, \\\\frac{\\\\sqrt{11}}{6})$ be points in the coordinate plane. \\n    Let $\\\\mathcal{F}$ be the family of segments $\\\\overline\\\\{PQ\\\\}$ of unit length lying in the first quadrant with $P$ on the $x$-axis and $Q$ on the $y$-axis. There is a unique point $C$ on $\\\\overline{AB}$, distinct from $A$ and $B$, that does not belong to any segment from $\\\\mathcal{F}$ other than $\\\\overline{AB}$. \\n    Then $OC^2 = \\\\tfrac{p}{q}$, where $p$ and $q$ are relatively prime positive integers. Find $p+q$.\\n    ',\n",
       " 589)"
      ]
     },
     "execution_count": 1,
     "metadata": {},
     "output_type": "execute_result"
    }
   ],
   "source": [
    "# data generation function for question 1\n",
    "import random\n",
    "from fractions import Fraction\n",
    "import sympy as sp\n",
    "def generate_answer(x_sym=0):\n",
    "    # only consider rational x_sym if initial value is given\n",
    "    \n",
    "\n",
    "\n",
    "    if x_sym == 0:\n",
    "        while x_sym == 0 or x_sym==1:\n",
    "            denominator = random.randint(2, 10)\n",
    "            numerator = random.randint(0, denominator)\n",
    "            x_frac = Fraction(numerator, denominator)\n",
    "            x_sym  = sp.Rational(x_frac.numerator, x_frac.denominator)\n",
    "            \n",
    "    x_frac = Fraction(x_sym)        \n",
    "    x_latex = sp.latex(x_sym) \n",
    "    y_expr = sp.sqrt(1 - x_sym**2)\n",
    "    y_expr = sp.nsimplify(y_expr) \n",
    "    y_latex = sp.latex(y_expr)\n",
    "    \n",
    "        \n",
    "    OC_square = x_frac ** 6 + y_expr ** 6\n",
    "    frac_oc_square = Fraction(OC_square)\n",
    "    p,q = frac_oc_square.numerator, frac_oc_square.denominator\n",
    "    real_answer = p + q \n",
    "    \n",
    "    templete = \"\"\"Let $O(0,0), A({x_latex}, 0),$ and $B(0, {y_latex})$ be points in the coordinate plane. \n",
    "    Let $\\\\mathcal{{F}}$ be the family of segments $\\\\overline\\{{PQ\\}}$ of unit length lying in the first quadrant with $P$ on the $x$-axis and $Q$ on the $y$-axis. There is a unique point $C$ on $\\\\overline{{AB}}$, distinct from $A$ and $B$, that does not belong to any segment from $\\\\mathcal{{F}}$ other than $\\\\overline{{AB}}$. \n",
    "    Then $OC^2 = \\\\tfrac{{p}}{{q}}$, where $p$ and $q$ are relatively prime positive integers. Find $p+q$.\n",
    "    \"\"\"\n",
    "    prompt = templete.format(x_latex=x_latex, y_latex=y_latex)\n",
    "    print(f\"{x_latex}, {y_latex}\")\n",
    "\n",
    "    return prompt, real_answer\n",
    "generate_answer() "
   ]
  },
  {
   "cell_type": "code",
   "execution_count": null,
   "metadata": {},
   "outputs": [],
   "source": [
    "from vllm import LLM, SamplingParams\n",
    "from transformers import AutoTokenizer\n",
    "\n",
    "\n",
    "import os\n",
    "os.environ['CUDA_VISIBLE_DEVICES'] = '2'\n",
    "model = LLM(\n",
    "    \"simplescaling/s1-32B\",\n",
    "    tensor_parallel_size=1,\n",
    ")\n",
    "\n"
   ]
  },
  {
   "cell_type": "code",
   "execution_count": 23,
   "metadata": {},
   "outputs": [
    {
     "data": {
      "text/plain": [
       "('Every morning Aya goes for a {28}-kilometer-long walk and stops at a coffee shop afterwards. When she walks at a constant speed of {s} kilometers per hour, the walk takes her {5 hours and 29 minutes}, including {t} minutes spent in the coffee shop. When she walks {s+2} kilometers per hour, the walk takes her {4 hours and 8 minutes}, including {t} minutes spent in the coffee shop. Suppose Aya walks at {s+\\\\frac{1}{2}} kilometers per hour. Find the number of minutes the walk takes her, including the {t} minutes spent in the coffee shop.',\n",
       " 5.066666666666667)"
      ]
     },
     "execution_count": 23,
     "metadata": {},
     "output_type": "execute_result"
    }
   ],
   "source": [
    "def format_time(hours):\n",
    "    \"\"\"Format a time given in hours (as a float) to 'X hours and Y minutes'.\"\"\"\n",
    "    h = int(hours)\n",
    "    m = int(round((hours - h) * 60))\n",
    "    if m == 60:\n",
    "        h += 1\n",
    "        m = 0\n",
    "    # Singular/plural handling for clarity\n",
    "    hour_unit = \"hour\" if h == 1 else \"hours\"\n",
    "    minute_unit = \"minute\" if m == 1 else \"minutes\"\n",
    "    return f\"{h} {hour_unit} and {m} {minute_unit}\"\n",
    "\n",
    "def generate_aya_question():\n",
    "    # Randomly choose parameters.\n",
    "    # s is chosen as a half-integer value (km/h) from 2.0 to 10.0.\n",
    "    possible_s = [x/2 for x in range(4, 21)]  # 2.0, 2.5, ..., 10.0\n",
    "    s = random.choice(possible_s)\n",
    "    \n",
    "    # c is the coffee shop time (in hours). Here we choose between 0.1 and 1.0 hours.\n",
    "    c = random.choice([i/10 for i in range(1, 11)])\n",
    "    \n",
    "    # D is the distance (in km). For variety, choose an integer from 5 to 30.\n",
    "    D = random.randint(5, 30)\n",
    "    \n",
    "    # Compute the total time for each scenario:\n",
    "    # When Aya walks at speed s km/h:\n",
    "    T1 = D / s + c       # in hours\n",
    "    # When she walks at (s+2) km/h:\n",
    "    T2 = D / (s + 2) + c # in hours\n",
    "    \n",
    "    # Format the times as strings.\n",
    "    T1_str = format_time(T1)\n",
    "    T2_str = format_time(T2)\n",
    "    \n",
    "    \n",
    "    # Build the question text using literal curly braces around substituted values.\n",
    "    # To print literal curly braces around a substituted value using .format(), we use triple braces.\n",
    "    question = (\n",
    "        \"Every morning Aya goes for a {{{D}}}-kilometer-long walk and stops at a coffee shop afterwards. \"\n",
    "        \"When she walks at a constant speed of {{s}} kilometers per hour, the walk takes her {{{T1_str}}}, including {{t}} minutes spent in the coffee shop. \"\n",
    "        \"When she walks {{s+2}} kilometers per hour, the walk takes her {{{T2_str}}}, including {{t}} minutes spent in the coffee shop. \"\n",
    "        \"Suppose Aya walks at {{s+\\\\frac{{1}}{{2}}}} kilometers per hour. Find the number of minutes the walk takes her, including the {{t}} minutes spent in the coffee shop.\"\n",
    "    ).format(\n",
    "        D=D,\n",
    "        T1_str=T1_str,\n",
    "        T2_str=T2_str,\n",
    "    )\n",
    "    \n",
    "    real_answer = D / (s + 0.5) + c\n",
    "    \n",
    "    return question, real_answer\n",
    "generate_aya_question()"
   ]
  },
  {
   "cell_type": "code",
   "execution_count": null,
   "metadata": {},
   "outputs": [],
   "source": [
    "Every morning Aya goes for a $9$-kilometer-long walk and stops at a coffee shop afterwards. When she walks at a constant speed of $s$ kilometers per hour, the walk takes her 4 hours, including $t$ minutes spent in the coffee shop. When she walks $s+2$ kilometers per hour, the walk takes her 2 hours and 24 minutes, including $t$ minutes spent in the coffee shop. Suppose Aya walks at $s+\\frac{1}{2}$ kilometers per hour. Find the number of minutes the walk takes her, including the $t$ minutes spent in the coffee shop."
   ]
  }
 ],
 "metadata": {
  "kernelspec": {
   "display_name": "reasoning",
   "language": "python",
   "name": "python3"
  },
  "language_info": {
   "codemirror_mode": {
    "name": "ipython",
    "version": 3
   },
   "file_extension": ".py",
   "mimetype": "text/x-python",
   "name": "python",
   "nbconvert_exporter": "python",
   "pygments_lexer": "ipython3",
   "version": "3.9.19"
  }
 },
 "nbformat": 4,
 "nbformat_minor": 2
}
