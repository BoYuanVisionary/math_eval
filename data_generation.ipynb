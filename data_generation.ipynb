{
 "cells": [
  {
   "cell_type": "code",
   "execution_count": 10,
   "metadata": {},
   "outputs": [],
   "source": [
    "from datasets import load_dataset\n",
    "import random\n",
    "random.seed(42)\n"
   ]
  },
  {
   "cell_type": "code",
   "execution_count": 57,
   "metadata": {},
   "outputs": [
    {
     "data": {
      "application/vnd.jupyter.widget-view+json": {
       "model_id": "edb56516849f494f928b64c15450ca9c",
       "version_major": 2,
       "version_minor": 0
      },
      "text/plain": [
       "Generating train split: 0 examples [00:00, ? examples/s]"
      ]
     },
     "metadata": {},
     "output_type": "display_data"
    }
   ],
   "source": [
    "dataset = load_dataset(\"json\", data_files=\"/ssdscratch/byuan48/math_eval/data/AIME25.jsonl\")\n"
   ]
  },
  {
   "cell_type": "code",
   "execution_count": 20,
   "metadata": {},
   "outputs": [],
   "source": [
    "def remove_random_word_in_string(s: str) -> str:\n",
    "\n",
    "    words = s.split()\n",
    "    if not words: \n",
    "        return s\n",
    "\n",
    "    idx = random.randrange(len(words))\n",
    "    target_word = words[idx]    \n",
    "    words.pop(idx)\n",
    "    # print(f'the word {target_word} is removed')\n",
    "    return \" \".join(words)\n",
    "\n",
    "def add_random_word_in_string(s: str) -> str:\n",
    "\n",
    "    words = s.split()\n",
    "    if not words: \n",
    "        return s\n",
    "\n",
    "    idx = random.randrange(len(words))\n",
    "    target_word = words[idx]\n",
    "    words.insert(idx, words[idx])\n",
    "    # print(f'the word {target_word} is repeated')\n",
    "    return \" \".join(words)"
   ]
  },
  {
   "cell_type": "code",
   "execution_count": 21,
   "metadata": {},
   "outputs": [
    {
     "data": {
      "application/vnd.jupyter.widget-view+json": {
       "model_id": "5b3e7b226a1643c59cd03e95e34c5402",
       "version_major": 2,
       "version_minor": 0
      },
      "text/plain": [
       "Map:   0%|          | 0/30 [00:00<?, ? examples/s]"
      ]
     },
     "metadata": {},
     "output_type": "display_data"
    },
    {
     "name": "stdout",
     "output_type": "stream",
     "text": [
      "the word $\\left|\\log_2(x^4y^3z^2)\\right|$ is removed\n",
      "the word $\\mathcal{F}$ is removed\n",
      "the word lottery is removed\n",
      "the word from is removed\n",
      "the word to is removed\n",
      "the word the is removed\n",
      "the word colored is removed\n",
      "the word + is removed\n",
      "the word numbers is removed\n",
      "the word A. is removed\n",
      "the word $|z|=4$. is removed\n",
      "the word cell is removed\n",
      "the word the is removed\n",
      "the word $7$. is removed\n",
      "the word length is removed\n",
      "the word $p$ is removed\n",
      "the word of is removed\n",
      "the word dodecagon is removed\n",
      "the word Pythagorean is removed\n",
      "the word on is removed\n",
      "the word and is removed\n",
      "the word ABCDEF is removed\n",
      "the word than is removed\n",
      "the word of is removed\n",
      "the word Aimeville is removed\n",
      "the word A..B..C); is removed\n",
      "the word the is removed\n",
      "the word integers, is removed\n",
      "the word $\\frac{x}{17} is removed\n",
      "the word of is removed\n"
     ]
    },
    {
     "data": {
      "application/vnd.jupyter.widget-view+json": {
       "model_id": "675a7d6d6ecc4579b23065b4e9606327",
       "version_major": 2,
       "version_minor": 0
      },
      "text/plain": [
       "Map:   0%|          | 0/30 [00:00<?, ? examples/s]"
      ]
     },
     "metadata": {},
     "output_type": "display_data"
    }
   ],
   "source": [
    "\n",
    "dataset = load_dataset(\"Maxwell-Jia/AIME_2024\")\n",
    "\n",
    "dataset_remove_one = dataset.map(lambda example: {\"Problem\": remove_random_word_in_string(example[\"Problem\"])})\n",
    "dataset_add_one = dataset.map(lambda example: {\"Problem\": add_random_word_in_string(example[\"Problem\"])})"
   ]
  },
  {
   "cell_type": "code",
   "execution_count": 37,
   "metadata": {},
   "outputs": [
    {
     "data": {
      "text/plain": [
       "'Let $O(0,0), A(\\\\tfrac{1}{2}, 0),$ and $B(0, \\\\tfrac{\\\\sqrt{3}}{2})$ be points in the coordinate plane. Let $\\\\mathcal{F}$ be the family of segments $\\\\overline{PQ}$ of unit length lying in the first quadrant with $P$ on the $x$-axis and $Q$ on the $y$-axis. There is a unique point $C$ on $\\\\overline{AB}$, distinct from $A$ and $B$, that does not belong to any segment from $\\\\mathcal{F}$ other than $\\\\overline{AB}$. Then $OC^2 = \\\\tfrac{p}{q}$, where $p$ and $q$ are relatively prime positive integers. Find $p + q$.'"
      ]
     },
     "execution_count": 37,
     "metadata": {},
     "output_type": "execute_result"
    }
   ],
   "source": [
    "dataset['train']['Problem'][1]\n",
    "prompt = \"\"\"'Let $O(0,0), A(\\\\tfrac{1}{2}, 0),$ and $B(0, \\\\tfrac{\\\\sqrt{3}}{2})$ be points in the coordinate plane. Let $\\\\mathcal{F}$ be the family of segments $\\\\overline{PQ}$ of unit length lying in the first quadrant with $P$ on the $x$-axis and $Q$ on the $y$-axis. There is a unique point $C$ on $\\\\overline{AB}$, distinct from $A$ and $B$, that does not belong to any segment from $\\\\mathcal{F}$ other than $\\\\overline{AB}$. Then $OC^2 = \\\\tfrac{p}{q}$, where $p$ and $q$ are relatively prime positive integers. Find $p + q$.'\"\"\""
   ]
  },
  {
   "cell_type": "code",
   "execution_count": 63,
   "metadata": {},
   "outputs": [
    {
     "name": "stdout",
     "output_type": "stream",
     "text": [
      "\\frac{2}{3}, \\frac{\\sqrt{5}}{3}\n"
     ]
    },
    {
     "data": {
      "text/plain": [
       "('Let $O(0,0), A(\\\\frac{2}{3}, 0),$ and $B(0, \\\\frac{\\\\sqrt{5}}{3})$ be points in the coordinate plane. \\n    Let $\\\\mathcal{F}$ be the family of segments $\\\\overline\\\\{PQ\\\\}$ of unit length lying in the first quadrant with $P$ on the $x$-axis and $Q$ on the $y$-axis. There is a unique point $C$ on $\\\\overline{AB}$, distinct from $A$ and $B$, that does not belong to any segment from $\\\\mathcal{F}$ other than $\\\\overline{AB}$. \\n    Then $OC^2 = \\\\tfrac{p}{q}$, where $p$ and $q$ are relatively prime positive integers. Find $p+q$.\\n    ',\n",
       " 34)"
      ]
     },
     "execution_count": 63,
     "metadata": {},
     "output_type": "execute_result"
    }
   ],
   "source": [
    "# data generation function for question 2\n",
    "import random\n",
    "from fractions import Fraction\n",
    "import sympy as sp\n",
    "def generate_answer(x_sym=0):\n",
    "    # only consider rational x_sym if initial value is given\n",
    "    \n",
    "\n",
    "\n",
    "    if x_sym == 0:\n",
    "        while x_sym == 0 or x_sym==1:\n",
    "            denominator = random.randint(2, 10)\n",
    "            numerator = random.randint(0, denominator)\n",
    "            x_frac = Fraction(numerator, denominator)\n",
    "            x_sym  = sp.Rational(x_frac.numerator, x_frac.denominator)\n",
    "            \n",
    "    x_frac = Fraction(x_sym)        \n",
    "    x_latex = sp.latex(x_sym) \n",
    "    y_expr = sp.sqrt(1 - x_sym**2)\n",
    "    y_expr = sp.nsimplify(y_expr) \n",
    "    y_latex = sp.latex(y_expr)\n",
    "    \n",
    "        \n",
    "    OC_square = x_frac ** 6 + y_expr ** 6\n",
    "    frac_oc_square = Fraction(OC_square)\n",
    "    p,q = frac_oc_square.numerator, frac_oc_square.denominator\n",
    "    real_answer = p + q \n",
    "    \n",
    "    templete = \"\"\"Let $O(0,0), A({x_latex}, 0),$ and $B(0, {y_latex})$ be points in the coordinate plane. \n",
    "    Let $\\\\mathcal{{F}}$ be the family of segments $\\\\overline\\{{PQ\\}}$ of unit length lying in the first quadrant with $P$ on the $x$-axis and $Q$ on the $y$-axis. There is a unique point $C$ on $\\\\overline{{AB}}$, distinct from $A$ and $B$, that does not belong to any segment from $\\\\mathcal{{F}}$ other than $\\\\overline{{AB}}$. \n",
    "    Then $OC^2 = \\\\tfrac{{p}}{{q}}$, where $p$ and $q$ are relatively prime positive integers. Find $p+q$.\n",
    "    \"\"\"\n",
    "    prompt = templete.format(x_latex=x_latex, y_latex=y_latex)\n",
    "    print(f\"{x_latex}, {y_latex}\")\n",
    "\n",
    "    return prompt, real_answer\n",
    "generate_answer() \n",
    "    "
   ]
  }
 ],
 "metadata": {
  "kernelspec": {
   "display_name": "reasoning",
   "language": "python",
   "name": "python3"
  },
  "language_info": {
   "codemirror_mode": {
    "name": "ipython",
    "version": 3
   },
   "file_extension": ".py",
   "mimetype": "text/x-python",
   "name": "python",
   "nbconvert_exporter": "python",
   "pygments_lexer": "ipython3",
   "version": "3.9.19"
  }
 },
 "nbformat": 4,
 "nbformat_minor": 2
}
