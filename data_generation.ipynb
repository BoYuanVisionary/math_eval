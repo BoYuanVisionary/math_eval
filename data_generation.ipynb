{
 "cells": [
  {
   "cell_type": "code",
   "execution_count": 19,
   "metadata": {},
   "outputs": [],
   "source": [
    "from datasets import load_dataset\n",
    "import random\n",
    "random.seed(42)\n"
   ]
  },
  {
   "cell_type": "code",
   "execution_count": 20,
   "metadata": {},
   "outputs": [],
   "source": [
    "def remove_random_word_in_string(s: str) -> str:\n",
    "\n",
    "    words = s.split()\n",
    "    if not words: \n",
    "        return s\n",
    "\n",
    "    idx = random.randrange(len(words))\n",
    "    target_word = words[idx]    \n",
    "    words.pop(idx)\n",
    "    print(f'the word {target_word} is removed')\n",
    "    return \" \".join(words)\n",
    "\n",
    "def add_random_word_in_string(s: str) -> str:\n",
    "\n",
    "    words = s.split()\n",
    "    if not words: \n",
    "        return s\n",
    "\n",
    "    idx = random.randrange(len(words))\n",
    "    target_word = words[idx]\n",
    "    words.insert(idx, words[idx])\n",
    "    # print(f'the word {target_word} is repeated')\n",
    "    return \" \".join(words)"
   ]
  },
  {
   "cell_type": "code",
   "execution_count": 18,
   "metadata": {},
   "outputs": [
    {
     "data": {
      "application/vnd.jupyter.widget-view+json": {
       "model_id": "e57eaee646df47ccafce14702eee67d0",
       "version_major": 2,
       "version_minor": 0
      },
      "text/plain": [
       "Map:   0%|          | 0/30 [00:00<?, ? examples/s]"
      ]
     },
     "metadata": {},
     "output_type": "display_data"
    },
    {
     "name": "stdout",
     "output_type": "stream",
     "text": [
      "the word following is repeat\n",
      "the word from is remove\n",
      "the word her is repeat\n",
      "the word the is remove\n",
      "the word two is remove\n",
      "the word (2 is repeat\n",
      "the word so is remove\n",
      "the word Find is remove\n",
      "the word 1, is remove\n",
      "the word of is repeat\n",
      "the word \\[(75+117i)z is remove\n",
      "the word top is remove\n",
      "the word hours, is repeat\n",
      "the word changed is repeat\n",
      "the word to is remove\n",
      "the word for is remove\n",
      "the word $r$ is remove\n",
      "the word a is remove\n",
      "the word $AI=IM=MI_{a}=\\sqrt{156}$ is remove\n",
      "the word all is remove\n",
      "the word these is remove\n",
      "the word 200, is repeat\n",
      "the word $A$, is repeat\n",
      "the word median is repeat\n",
      "the word these is repeat\n",
      "the word to is remove\n",
      "the word in is repeat\n",
      "the word tetrahedron is remove\n",
      "the word GHD) is remove\n",
      "the word divided is remove\n"
     ]
    }
   ],
   "source": [
    "\n",
    "dataset = load_dataset(\"Maxwell-Jia/AIME_2024\")\n",
    "\n",
    "dataset_remove_one = dataset.map(lambda example: {\"Problem\": remove_random_word_in_string(example[\"Problem\"])})\n",
    "dataset_add_one = dataset.map(lambda example: {\"Problem\": add_random_word_in_string(example[\"Problem\"])})"
   ]
  },
  {
   "cell_type": "code",
   "execution_count": 7,
   "metadata": {},
   "outputs": [
    {
     "data": {
      "text/plain": [
       "'Let $x,y$ and $z$ be positive real numbers that satisfy the following system of equations: \\n\\\\[\\\\log_2\\\\left({x \\\\over yz}\\\\right) = {1 \\\\over 2}\\\\]\\n\\\\[\\\\log_2\\\\left({y \\\\over xz}\\\\right) = {1 \\\\over 3}\\\\]\\n\\\\[\\\\log_2\\\\left({z \\\\over xy}\\\\right) = {1 \\\\over 4}\\\\]\\nThen the value of $\\\\left|\\\\log_2(x^4y^3z^2)\\\\right|$ is $\\\\tfrac{m}{n}$ where $m$ and $n$ are relatively prime positive integers. Find $m+n$.'"
      ]
     },
     "execution_count": 7,
     "metadata": {},
     "output_type": "execute_result"
    }
   ],
   "source": [
    "dataset[\"train\"]['Problem'][0]"
   ]
  }
 ],
 "metadata": {
  "kernelspec": {
   "display_name": "reasoning",
   "language": "python",
   "name": "python3"
  },
  "language_info": {
   "codemirror_mode": {
    "name": "ipython",
    "version": 3
   },
   "file_extension": ".py",
   "mimetype": "text/x-python",
   "name": "python",
   "nbconvert_exporter": "python",
   "pygments_lexer": "ipython3",
   "version": "3.9.19"
  }
 },
 "nbformat": 4,
 "nbformat_minor": 2
}
